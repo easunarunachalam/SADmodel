{
 "cells": [
  {
   "cell_type": "code",
   "execution_count": 3,
   "id": "42791638-1884-4895-9b49-489954de2dea",
   "metadata": {},
   "outputs": [
    {
     "name": "stdout",
     "output_type": "stream",
     "text": [
      "The autoreload extension is already loaded. To reload it, use:\n",
      "  %reload_ext autoreload\n"
     ]
    }
   ],
   "source": [
    "%load_ext autoreload\n",
    "%autoreload 2"
   ]
  },
  {
   "cell_type": "code",
   "execution_count": 4,
   "id": "d10d10a2-0076-429b-93d0-0de125fc2de0",
   "metadata": {},
   "outputs": [],
   "source": [
    "import imageio as iio\n",
    "import matplotlib.pyplot as plt\n",
    "import napari\n",
    "import numpy as np\n",
    "from pathlib import Path\n",
    "import pyvista as pv\n",
    "from pyvista import examples\n",
    "import sys\n",
    "import xarray as xr\n",
    "\n",
    "sys.path.append(r\"D:\\Dropbox\\code\\mitogenesis\")\n",
    "import mitograph_util"
   ]
  },
  {
   "cell_type": "code",
   "execution_count": 5,
   "id": "894ceb94-ef19-4bd3-8da6-b36dc49ab1da",
   "metadata": {},
   "outputs": [],
   "source": [
    "img, surface, skeleton = mitograph_util.all_mito_files(r\"../sample_data/mitograph_util_test_data/S=0_T=0_cell=2.tif\")"
   ]
  },
  {
   "cell_type": "code",
   "execution_count": 6,
   "id": "7635b78c-8b48-453c-b1af-58b5c63a5f37",
   "metadata": {},
   "outputs": [],
   "source": [
    "skeleton_segs = mitograph_util.skeleton_segments(skeleton)"
   ]
  },
  {
   "cell_type": "code",
   "execution_count": 7,
   "id": "1fd1e7fc-5029-4484-a98b-f760e3a3a2a9",
   "metadata": {},
   "outputs": [
    {
     "data": {
      "application/vnd.jupyter.widget-view+json": {
       "model_id": "45c1d96887514c26bd2018e110005586",
       "version_major": 2,
       "version_minor": 0
      },
      "text/plain": [
       "  0%|          | 0/3784 [00:00<?, ?it/s]"
      ]
     },
     "metadata": {},
     "output_type": "display_data"
    },
    {
     "data": {
      "application/vnd.jupyter.widget-view+json": {
       "model_id": "4d62943a8f6842bcab48243029713123",
       "version_major": 2,
       "version_minor": 0
      },
      "text/plain": [
       "  0%|          | 0/3784 [00:00<?, ?it/s]"
      ]
     },
     "metadata": {},
     "output_type": "display_data"
    }
   ],
   "source": [
    "surface_corr, faces_idx = mitograph_util.compress_mitograph_mesh(surface, skeleton, 0.4)"
   ]
  },
  {
   "cell_type": "code",
   "execution_count": 14,
   "id": "466b5f15-b7a8-43b9-bc32-fb8bfdb0f4c7",
   "metadata": {},
   "outputs": [
    {
     "data": {
      "text/plain": [
       "(3.291001451296872, 2.1729522615805386)"
      ]
     },
     "execution_count": 14,
     "metadata": {},
     "output_type": "execute_result"
    }
   ],
   "source": [
    "surface.volume, surface_corr.volume"
   ]
  },
  {
   "cell_type": "code",
   "execution_count": 8,
   "id": "2b0650fb-f45f-404e-8a92-c1a6b6bb5d13",
   "metadata": {},
   "outputs": [],
   "source": [
    "viewer = napari.Viewer()"
   ]
  },
  {
   "cell_type": "code",
   "execution_count": 9,
   "id": "5d940355-292c-4821-bbcf-99646edc45ad",
   "metadata": {},
   "outputs": [],
   "source": [
    "img_scale = [0.08818, 0.08818, 0.2]"
   ]
  },
  {
   "cell_type": "code",
   "execution_count": 11,
   "id": "85b77112-9062-4bfb-8070-773123608480",
   "metadata": {},
   "outputs": [
    {
     "data": {
      "text/plain": [
       "<Surface layer 'corrected mesh' at 0x20454a66080>"
      ]
     },
     "execution_count": 11,
     "metadata": {},
     "output_type": "execute_result"
    }
   ],
   "source": [
    "viewer.add_image(img.transpose(\"x\", \"y\", \"z\").data, contrast_limits=[100, 275], scale=img_scale, blending=\"additive\", name=\"tiff_stack\")\n",
    "viewer.add_shapes(data=skeleton_segs, edge_width=0.01, shape_type=\"line\", edge_color=\"blue\", name=\"skeleton segments\", visible=False)\n",
    "viewer.add_points(data=skeleton.points, size=0.05, face_color=\"crimson\", name=\"skeleton points\")\n",
    "viewer.add_points(data=surface.points, size=0.05, name=\"mesh points\", visible=False)\n",
    "viewer.add_points(surface_corr.points, size=0.05, face_color=\"purple\", name=\"corrected mesh points\", visible=False)\n",
    "viewer.add_surface(data=(surface.points, np.asarray(faces_idx)), blending=\"additive\", colormap=\"gray\", opacity=0.2, name=\"mesh\", visible=False)\n",
    "viewer.add_surface(data=(surface_corr.points, np.asarray(faces_idx)), blending=\"additive\", colormap=\"green\", opacity=0.2, name=\"corrected mesh\", visible=False)"
   ]
  },
  {
   "cell_type": "code",
   "execution_count": null,
   "id": "ee484c42-af7d-4ff0-998d-08e117a0f37a",
   "metadata": {},
   "outputs": [],
   "source": []
  }
 ],
 "metadata": {
  "kernelspec": {
   "display_name": "Python 3 (ipykernel)",
   "language": "python",
   "name": "python3"
  },
  "language_info": {
   "codemirror_mode": {
    "name": "ipython",
    "version": 3
   },
   "file_extension": ".py",
   "mimetype": "text/x-python",
   "name": "python",
   "nbconvert_exporter": "python",
   "pygments_lexer": "ipython3",
   "version": "3.10.4"
  }
 },
 "nbformat": 4,
 "nbformat_minor": 5
}
